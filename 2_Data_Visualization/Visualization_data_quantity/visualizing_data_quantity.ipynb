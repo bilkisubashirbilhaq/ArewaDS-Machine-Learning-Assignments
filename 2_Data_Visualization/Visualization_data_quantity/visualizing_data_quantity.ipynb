{
 "cells": [
  {
   "cell_type": "markdown",
   "id": "c7d9c24e",
   "metadata": {},
   "source": [
    "### Visualization of Data \n",
    "In this Assignment, we worked with line charts, scatterplots, and bar charts to show interesting facts about this dataset. "
   ]
  },
  {
   "cell_type": "code",
   "execution_count": 3,
   "id": "6810acd4",
   "metadata": {},
   "outputs": [
    {
     "data": {
      "application/vnd.microsoft.datawrangler.viewer.v0+json": {
       "columns": [
        {
         "name": "index",
         "rawType": "int64",
         "type": "integer"
        },
        {
         "name": "Name",
         "rawType": "object",
         "type": "string"
        },
        {
         "name": "ScientificName",
         "rawType": "object",
         "type": "string"
        },
        {
         "name": "Category",
         "rawType": "object",
         "type": "string"
        },
        {
         "name": "Order",
         "rawType": "object",
         "type": "string"
        },
        {
         "name": "Family",
         "rawType": "object",
         "type": "string"
        },
        {
         "name": "Genus",
         "rawType": "object",
         "type": "string"
        },
        {
         "name": "ConservationStatus",
         "rawType": "object",
         "type": "string"
        },
        {
         "name": "MinLength",
         "rawType": "float64",
         "type": "float"
        },
        {
         "name": "MaxLength",
         "rawType": "float64",
         "type": "float"
        },
        {
         "name": "MinBodyMass",
         "rawType": "float64",
         "type": "float"
        },
        {
         "name": "MaxBodyMass",
         "rawType": "float64",
         "type": "float"
        },
        {
         "name": "MinWingspan",
         "rawType": "float64",
         "type": "float"
        },
        {
         "name": "MaxWingspan",
         "rawType": "float64",
         "type": "float"
        }
       ],
       "ref": "5b8e96b0-c317-4c36-bbcd-21714a696c37",
       "rows": [
        [
         "0",
         "Black-bellied whistling-duck",
         "Dendrocygna autumnalis",
         "Ducks/Geese/Waterfowl",
         "Anseriformes",
         "Anatidae",
         "Dendrocygna",
         "LC",
         "47.0",
         "56.0",
         "652.0",
         "1020.0",
         "76.0",
         "94.0"
        ],
        [
         "1",
         "Fulvous whistling-duck",
         "Dendrocygna bicolor",
         "Ducks/Geese/Waterfowl",
         "Anseriformes",
         "Anatidae",
         "Dendrocygna",
         "LC",
         "45.0",
         "53.0",
         "712.0",
         "1050.0",
         "85.0",
         "93.0"
        ],
        [
         "2",
         "Snow goose",
         "Anser caerulescens",
         "Ducks/Geese/Waterfowl",
         "Anseriformes",
         "Anatidae",
         "Anser",
         "LC",
         "64.0",
         "79.0",
         "2050.0",
         "4050.0",
         "135.0",
         "165.0"
        ],
        [
         "3",
         "Ross's goose",
         "Anser rossii",
         "Ducks/Geese/Waterfowl",
         "Anseriformes",
         "Anatidae",
         "Anser",
         "LC",
         "57.3",
         "64.0",
         "1066.0",
         "1567.0",
         "113.0",
         "116.0"
        ],
        [
         "4",
         "Greater white-fronted goose",
         "Anser albifrons",
         "Ducks/Geese/Waterfowl",
         "Anseriformes",
         "Anatidae",
         "Anser",
         "LC",
         "64.0",
         "81.0",
         "1930.0",
         "3310.0",
         "130.0",
         "165.0"
        ]
       ],
       "shape": {
        "columns": 13,
        "rows": 5
       }
      },
      "text/html": [
       "<div>\n",
       "<style scoped>\n",
       "    .dataframe tbody tr th:only-of-type {\n",
       "        vertical-align: middle;\n",
       "    }\n",
       "\n",
       "    .dataframe tbody tr th {\n",
       "        vertical-align: top;\n",
       "    }\n",
       "\n",
       "    .dataframe thead th {\n",
       "        text-align: right;\n",
       "    }\n",
       "</style>\n",
       "<table border=\"1\" class=\"dataframe\">\n",
       "  <thead>\n",
       "    <tr style=\"text-align: right;\">\n",
       "      <th></th>\n",
       "      <th>Name</th>\n",
       "      <th>ScientificName</th>\n",
       "      <th>Category</th>\n",
       "      <th>Order</th>\n",
       "      <th>Family</th>\n",
       "      <th>Genus</th>\n",
       "      <th>ConservationStatus</th>\n",
       "      <th>MinLength</th>\n",
       "      <th>MaxLength</th>\n",
       "      <th>MinBodyMass</th>\n",
       "      <th>MaxBodyMass</th>\n",
       "      <th>MinWingspan</th>\n",
       "      <th>MaxWingspan</th>\n",
       "    </tr>\n",
       "  </thead>\n",
       "  <tbody>\n",
       "    <tr>\n",
       "      <th>0</th>\n",
       "      <td>Black-bellied whistling-duck</td>\n",
       "      <td>Dendrocygna autumnalis</td>\n",
       "      <td>Ducks/Geese/Waterfowl</td>\n",
       "      <td>Anseriformes</td>\n",
       "      <td>Anatidae</td>\n",
       "      <td>Dendrocygna</td>\n",
       "      <td>LC</td>\n",
       "      <td>47.0</td>\n",
       "      <td>56.0</td>\n",
       "      <td>652.0</td>\n",
       "      <td>1020.0</td>\n",
       "      <td>76.0</td>\n",
       "      <td>94.0</td>\n",
       "    </tr>\n",
       "    <tr>\n",
       "      <th>1</th>\n",
       "      <td>Fulvous whistling-duck</td>\n",
       "      <td>Dendrocygna bicolor</td>\n",
       "      <td>Ducks/Geese/Waterfowl</td>\n",
       "      <td>Anseriformes</td>\n",
       "      <td>Anatidae</td>\n",
       "      <td>Dendrocygna</td>\n",
       "      <td>LC</td>\n",
       "      <td>45.0</td>\n",
       "      <td>53.0</td>\n",
       "      <td>712.0</td>\n",
       "      <td>1050.0</td>\n",
       "      <td>85.0</td>\n",
       "      <td>93.0</td>\n",
       "    </tr>\n",
       "    <tr>\n",
       "      <th>2</th>\n",
       "      <td>Snow goose</td>\n",
       "      <td>Anser caerulescens</td>\n",
       "      <td>Ducks/Geese/Waterfowl</td>\n",
       "      <td>Anseriformes</td>\n",
       "      <td>Anatidae</td>\n",
       "      <td>Anser</td>\n",
       "      <td>LC</td>\n",
       "      <td>64.0</td>\n",
       "      <td>79.0</td>\n",
       "      <td>2050.0</td>\n",
       "      <td>4050.0</td>\n",
       "      <td>135.0</td>\n",
       "      <td>165.0</td>\n",
       "    </tr>\n",
       "    <tr>\n",
       "      <th>3</th>\n",
       "      <td>Ross's goose</td>\n",
       "      <td>Anser rossii</td>\n",
       "      <td>Ducks/Geese/Waterfowl</td>\n",
       "      <td>Anseriformes</td>\n",
       "      <td>Anatidae</td>\n",
       "      <td>Anser</td>\n",
       "      <td>LC</td>\n",
       "      <td>57.3</td>\n",
       "      <td>64.0</td>\n",
       "      <td>1066.0</td>\n",
       "      <td>1567.0</td>\n",
       "      <td>113.0</td>\n",
       "      <td>116.0</td>\n",
       "    </tr>\n",
       "    <tr>\n",
       "      <th>4</th>\n",
       "      <td>Greater white-fronted goose</td>\n",
       "      <td>Anser albifrons</td>\n",
       "      <td>Ducks/Geese/Waterfowl</td>\n",
       "      <td>Anseriformes</td>\n",
       "      <td>Anatidae</td>\n",
       "      <td>Anser</td>\n",
       "      <td>LC</td>\n",
       "      <td>64.0</td>\n",
       "      <td>81.0</td>\n",
       "      <td>1930.0</td>\n",
       "      <td>3310.0</td>\n",
       "      <td>130.0</td>\n",
       "      <td>165.0</td>\n",
       "    </tr>\n",
       "  </tbody>\n",
       "</table>\n",
       "</div>"
      ],
      "text/plain": [
       "                           Name          ScientificName  \\\n",
       "0  Black-bellied whistling-duck  Dendrocygna autumnalis   \n",
       "1        Fulvous whistling-duck     Dendrocygna bicolor   \n",
       "2                    Snow goose      Anser caerulescens   \n",
       "3                  Ross's goose            Anser rossii   \n",
       "4   Greater white-fronted goose         Anser albifrons   \n",
       "\n",
       "                Category         Order    Family        Genus  \\\n",
       "0  Ducks/Geese/Waterfowl  Anseriformes  Anatidae  Dendrocygna   \n",
       "1  Ducks/Geese/Waterfowl  Anseriformes  Anatidae  Dendrocygna   \n",
       "2  Ducks/Geese/Waterfowl  Anseriformes  Anatidae        Anser   \n",
       "3  Ducks/Geese/Waterfowl  Anseriformes  Anatidae        Anser   \n",
       "4  Ducks/Geese/Waterfowl  Anseriformes  Anatidae        Anser   \n",
       "\n",
       "  ConservationStatus  MinLength  MaxLength  MinBodyMass  MaxBodyMass  \\\n",
       "0                 LC       47.0       56.0        652.0       1020.0   \n",
       "1                 LC       45.0       53.0        712.0       1050.0   \n",
       "2                 LC       64.0       79.0       2050.0       4050.0   \n",
       "3                 LC       57.3       64.0       1066.0       1567.0   \n",
       "4                 LC       64.0       81.0       1930.0       3310.0   \n",
       "\n",
       "   MinWingspan  MaxWingspan  \n",
       "0         76.0         94.0  \n",
       "1         85.0         93.0  \n",
       "2        135.0        165.0  \n",
       "3        113.0        116.0  \n",
       "4        130.0        165.0  "
      ]
     },
     "execution_count": 3,
     "metadata": {},
     "output_type": "execute_result"
    }
   ],
   "source": [
    "# we import all neccessary libraries\n",
    "\n",
    "import pandas as pd\n",
    "import matplotlib.pyplot as plt\n",
    "birds = pd.read_csv(\"C:/Users/Maman Sauda/Desktop/ArewaDS/ArewaDS-Machine-Learning/data/birds.csv\")\n",
    "birds.head()"
   ]
  },
  {
   "cell_type": "code",
   "execution_count": 13,
   "id": "82bef848",
   "metadata": {},
   "outputs": [
    {
     "name": "stdout",
     "output_type": "stream",
     "text": [
      "                          Name      ScientificName               Category  \\\n",
      "2                   Snow goose  Anser caerulescens  Ducks/Geese/Waterfowl   \n",
      "3                 Ross's goose        Anser rossii  Ducks/Geese/Waterfowl   \n",
      "4  Greater white-fronted goose     Anser albifrons  Ducks/Geese/Waterfowl   \n",
      "6               Cackling goose   Branta hutchinsii  Ducks/Geese/Waterfowl   \n",
      "7                 Canada goose   Branta canadensis  Ducks/Geese/Waterfowl   \n",
      "\n",
      "          Order    Family   Genus ConservationStatus  MinLength  MaxLength  \\\n",
      "2  Anseriformes  Anatidae   Anser                 LC       64.0       79.0   \n",
      "3  Anseriformes  Anatidae   Anser                 LC       57.3       64.0   \n",
      "4  Anseriformes  Anatidae   Anser                 LC       64.0       81.0   \n",
      "6  Anseriformes  Anatidae  Branta                 LC       63.0       65.0   \n",
      "7  Anseriformes  Anatidae  Branta                 LC       75.0      110.0   \n",
      "\n",
      "   MinBodyMass  MaxBodyMass  MinWingspan  MaxWingspan  \n",
      "2       2050.0       4050.0        135.0        165.0  \n",
      "3       1066.0       1567.0        113.0        116.0  \n",
      "4       1930.0       3310.0        130.0        165.0  \n",
      "6       1398.0       2380.0        108.0        111.0  \n",
      "7       2600.0       6500.0        127.0        185.0  \n"
     ]
    }
   ],
   "source": [
    "  geese = birds[birds['Name'].str.lower().str.contains('goose')]\n",
    "  df = pd.DataFrame(geese)\n",
    "\n",
    "  print(geese)"
   ]
  },
  {
   "cell_type": "code",
   "execution_count": null,
   "id": "81849174",
   "metadata": {},
   "outputs": [],
   "source": [
    "  "
   ]
  },
  {
   "cell_type": "markdown",
   "id": "0cca2e63",
   "metadata": {},
   "source": [
    "In this section we filter the dataset and get the snow goose.\n",
    "And plot the bar chart using the length ,body mass and wingspan"
   ]
  },
  {
   "cell_type": "markdown",
   "id": "d9e59924",
   "metadata": {},
   "source": [
    "#### Line chart:\n",
    " We Compare Snow Goose length to other geese and plot a line chart for the snow goose.\n",
    "    "
   ]
  },
  {
   "cell_type": "code",
   "execution_count": null,
   "id": "ffd7e161",
   "metadata": {},
   "outputs": [
    {
     "data": {
      "image/png": "[encoded data removed]",
      "text/plain": [
       "<Figure size 720x360 with 1 Axes>"
      ]
     },
     "metadata": {
      "needs_background": "light"
     },
     "output_type": "display_data"
    }
   ],
   "source": [
    "    # Line chart: Compare Snow Goose length to other geese\n",
    "    geese = birds[birds['Name'].str.lower().str.contains('goose')]\n",
    "    plt.figure(figsize=(10, 5))\n",
    "    plt.plot(geese['Name'], geese['MinLength'], marker='o', label='Min Length')\n",
    "    plt.plot(geese['Name'], geese['MaxLength'], marker='o', label='Max Length')\n",
    "    plt.xticks(rotation=45, ha='right')\n",
    "    plt.ylabel('Length (cm)')\n",
    "    plt.title('Length Comparison Among Geese')\n",
    "    plt.legend()\n",
    "    plt.tight_layout()\n",
    "    plt.show()\n"
   ]
  },
  {
   "cell_type": "markdown",
   "id": "1ba5bef8",
   "metadata": {},
   "source": [
    " #### Scatterplot:\n",
    "  Body mass vs wingspan for all geese, highlight Snow Goose\n"
   ]
  },
  {
   "cell_type": "code",
   "execution_count": 31,
   "id": "3718b7ff",
   "metadata": {},
   "outputs": [
    {
     "data": {
      "image/png": "[encoded data removed]",
      "text/plain": [
       "<Figure size 576x432 with 1 Axes>"
      ]
     },
     "metadata": {
      "needs_background": "light"
     },
     "output_type": "display_data"
    }
   ],
   "source": [
    "plt.figure(figsize=(8, 6))\n",
    "plt.scatter(geese['MinLength'], geese['MaxLength'], color='teal')\n",
    "plt.xlabel('MinLength')\n",
    "plt.ylabel('MaxLength')\n",
    "plt.title('Scatter Plot of MinLength vs MaxLength for Geese')\n",
    "plt.grid(True)\n",
    "plt.show()"
   ]
  },
  {
   "cell_type": "code",
   "execution_count": null,
   "metadata": {},
   "outputs": [],
   "source": []
  },
  {
   "cell_type": "code",
   "execution_count": null,
   "id": "62245362",
   "metadata": {},
   "outputs": [],
   "source": [
    " "
   ]
  },
  {
   "cell_type": "code",
   "execution_count": null,
   "id": "b0c2520f",
   "metadata": {},
   "outputs": [
    {
     "data": {
      "image/png": "[encoded data removed]",
      "text/plain": [
       "<Figure size 432x288 with 1 Axes>"
      ]
     },
     "metadata": {
      "needs_background": "light"
     },
     "output_type": "display_data"
    }
   ],
   "source": [
    "#birds['MinBodyMass'].plot(kind = 'bar', )\n",
    "geese.plot(kind= 'bar',x='MinLength', y='MaxBodyMass',stacked=True,)\n",
    "\n",
    "plt.title('Min Length and Max length of Geese')\n",
    "plt.ylabel('Max Length')\n",
    "plt.xlabel('Min Length',rotation=\"45\")\n",
    "\n",
    "plt.show()\n",
    "\n"
   ]
  }
 ],
 "metadata": {
  "kernelspec": {
   "display_name": "base",
   "language": "python",
   "name": "python3"
  },
  "language_info": {
   "codemirror_mode": {
    "name": "ipython",
    "version": 3
   },
   "file_extension": ".py",
   "mimetype": "text/x-python",
   "name": "python",
   "nbconvert_exporter": "python",
   "pygments_lexer": "ipython3",
   "version": "3.9.12"
  }
 },
 "nbformat": 4,
 "nbformat_minor": 5
}
