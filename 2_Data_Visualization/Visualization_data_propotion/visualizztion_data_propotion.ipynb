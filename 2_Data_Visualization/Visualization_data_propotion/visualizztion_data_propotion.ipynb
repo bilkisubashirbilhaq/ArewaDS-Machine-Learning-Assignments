{
 "cells": [
  {
   "cell_type": "markdown",
   "id": "f6291494",
   "metadata": {},
   "source": [
    "### "
   ]
  },
  {
   "cell_type": "code",
   "execution_count": null,
   "id": "2899ee99",
   "metadata": {
    "vscode": {
     "languageId": "plaintext"
    }
   },
   "outputs": [],
   "source": [
    "!pip install -q pandas seaborn matplotlib"
   ]
  },
  {
   "cell_type": "code",
   "execution_count": null,
   "id": "229a5a8c",
   "metadata": {
    "vscode": {
     "languageId": "plaintext"
    }
   },
   "outputs": [],
   "source": [
    "import pandas as pd\n",
    "import seaborn as sns\n",
    "import matplotlib.pyplot as plt"
   ]
  },
  {
   "cell_type": "code",
   "execution_count": null,
   "id": "7ca5edc5",
   "metadata": {
    "vscode": {
     "languageId": "plaintext"
    }
   },
   "outputs": [],
   "source": [
    "birds = pd.read_csv('../../data/birds.csv') #load dataset\n",
    "birds.head() #display the first 5dataset\n"
   ]
  },
  {
   "cell_type": "code",
   "execution_count": null,
   "id": "8edb2c02",
   "metadata": {
    "vscode": {
     "languageId": "plaintext"
    }
   },
   "outputs": [],
   "source": [
    "birds['MaxBodyMass'].plot(kind = 'hist', figsize = (12,12))\n",
    "plt.show()"
   ]
  }
 ],
 "metadata": {
  "language_info": {
   "name": "python"
  }
 },
 "nbformat": 4,
 "nbformat_minor": 5
}
