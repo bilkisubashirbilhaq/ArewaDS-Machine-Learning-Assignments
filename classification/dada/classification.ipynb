{
 "cells": [
  {
   "cell_type": "markdown",
   "id": "ab8b8d6c",
   "metadata": {},
   "source": [
    "### Let's compare the Stochastic Gradient Descent (SGD) solver and the Limited-memory Broyden–Fletcher–Goldfarb–Shanno (L-BFGS) solver:\n",
    "\n",
    "#### tochastic Gradient Descent (SGD):**\n",
    "- Addresses optimization problems, especially in large-scale machine learning tasks.\n",
    "- Works well with large and sparse datasets because it updates model parameters incrementally for each data point or batch.\n",
    "- Faster for big data, but may converge less smoothly and requires careful tuning of learning rates.\n",
    "\n",
    "#### L-BFGS:**\n",
    "- Also solves optimization problems, but is more suited for smaller datasets and problems where memory is a concern.\n",
    "- Uses approximations to the Hessian matrix to find the optimal solution efficiently.\n",
    "- Converges smoothly and often requires fewer iterations, but can be slower and more memory-intensive for very large datasets.\n",
    "\n",
    "#### Why pick one over another?**\n",
    "- Choose SGD for large, streaming, or sparse data where speed is critical.\n",
    "- Choose L-BFGS for smaller, dense datasets where smooth convergence and fewer iterations are desired."
   ]
  }
 ],
 "metadata": {
  "kernelspec": {
   "display_name": "Python 3",
   "language": "python",
   "name": "python3"
  },
  "language_info": {
   "codemirror_mode": {
    "name": "ipython",
    "version": 3
   },
   "file_extension": ".py",
   "mimetype": "text/x-python",
   "name": "python",
   "nbconvert_exporter": "python",
   "pygments_lexer": "ipython3",
   "version": "3.13.7"
  }
 },
 "nbformat": 4,
 "nbformat_minor": 5
}
