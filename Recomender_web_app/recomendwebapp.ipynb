{
 "cells": [
  {
   "cell_type": "markdown",
   "id": "31a4530d",
   "metadata": {},
   "source": [
    "### Creating Recomender Web App"
   ]
  },
  {
   "cell_type": "code",
   "execution_count": null,
   "id": "f701d3dd",
   "metadata": {},
   "outputs": [],
   "source": [
    "# Start by importing useful libraries:\n",
    "!pip install skl2onnx\n",
    "import pandas as pd \n"
   ]
  },
  {
   "cell_type": "code",
   "execution_count": null,
   "id": "2d506b96",
   "metadata": {},
   "outputs": [],
   "source": [
    "data = pd.read_csv('../data/cleaned_cuisines.csv')\n",
    "data.head()"
   ]
  },
  {
   "cell_type": "code",
   "execution_count": null,
   "id": "7a5427b8",
   "metadata": {},
   "outputs": [],
   "source": [
    "#Remove the first two unnecessary columns and save the remaining data as 'X':\n",
    "\n",
    "X = data.iloc[:,2:]\n",
    "X.head()\n"
   ]
  },
  {
   "cell_type": "code",
   "execution_count": null,
   "id": "41b48a41",
   "metadata": {},
   "outputs": [],
   "source": [
    "#Save the labels as 'y':\n",
    "\n",
    "y = data[['cuisine']]\n",
    "y.head()\n"
   ]
  },
  {
   "cell_type": "markdown",
   "id": "775691b0",
   "metadata": {},
   "source": [
    "#### Commence the training routine\n",
    "\n",
    "We will use the 'SVC' library which has good accuracy."
   ]
  },
  {
   "cell_type": "code",
   "execution_count": null,
   "id": "bac41d37",
   "metadata": {},
   "outputs": [],
   "source": [
    "#Import the appropriate libraries from Scikit-learn:\n",
    "\n",
    "from sklearn.model_selection import train_test_split\n",
    "from sklearn.svm import SVC\n",
    "from sklearn.model_selection import cross_val_score\n",
    "from sklearn.metrics import accuracy_score,precision_score,confusion_matrix,classification_report\n"
   ]
  },
  {
   "cell_type": "code",
   "execution_count": null,
   "id": "af668b15",
   "metadata": {},
   "outputs": [],
   "source": [
    "#separate training and test sets:\n",
    "X_train, X_test, y_train, y_test = train_test_split(X,y,test_size=0.3)\n"
   ]
  },
  {
   "cell_type": "code",
   "execution_count": null,
   "id": "218691b0",
   "metadata": {},
   "outputs": [],
   "source": [
    "\n",
    "#Build an SVC Classification model as you did in the previous lesson:\n",
    "model = SVC(kernel='linear', C=10, probability=True,random_state=0)\n",
    "model.fit(X_train,y_train.values.ravel())\n"
   ]
  },
  {
   "cell_type": "code",
   "execution_count": null,
   "id": "da01445a",
   "metadata": {},
   "outputs": [],
   "source": [
    "\n",
    "# Now, test your model, calling `predict()`:\n",
    "y_pred = model.predict(X_test)\n",
    "\n",
    "#Print out a classification report to check the model's quality:\n",
    "print(classification_report(y_test,y_pred))"
   ]
  },
  {
   "cell_type": "markdown",
   "id": "dc618662",
   "metadata": {},
   "source": [
    "### Convert your model to Onnx\n",
    "\n",
    "Make sure to do the conversion with the proper Tensor number. This dataset has 380 ingredients listed, so you need to notate that number in `FloatTensorType`:\n"
   ]
  },
  {
   "cell_type": "code",
   "execution_count": null,
   "id": "88576c9a",
   "metadata": {},
   "outputs": [],
   "source": [
    "\n",
    "#convert using a tensor number of 380.\n",
    "from skl2onnx import convert_sklearn\n",
    "from skl2onnx.common.data_types import FloatTensorType\n",
    "    \n",
    "initial_type = [('float_input', FloatTensorType([None, 380]))]\n",
    "options = {id(model): {'nocl': True, 'zipmap': False}}\n"
   ]
  },
  {
   "cell_type": "code",
   "execution_count": null,
   "id": "de8edb3d",
   "metadata": {},
   "outputs": [],
   "source": [
    "\n",
    "#Create the onx and store as a file **model.onnx**:\n",
    "onx = convert_sklearn(model, initial_types=initial_type, options=options)\n",
    "with open(\"./model.onnx\", \"wb\") as f:\n",
    "    f.write(onx.SerializeToString())\n",
    "    "
   ]
  }
 ],
 "metadata": {
  "kernelspec": {
   "display_name": "Python 3",
   "language": "python",
   "name": "python3"
  },
  "language_info": {
   "codemirror_mode": {
    "name": "ipython",
    "version": 3
   },
   "file_extension": ".py",
   "mimetype": "text/x-python",
   "name": "python",
   "nbconvert_exporter": "python",
   "pygments_lexer": "ipython3",
   "version": "3.13.7"
  }
 },
 "nbformat": 4,
 "nbformat_minor": 5
}
