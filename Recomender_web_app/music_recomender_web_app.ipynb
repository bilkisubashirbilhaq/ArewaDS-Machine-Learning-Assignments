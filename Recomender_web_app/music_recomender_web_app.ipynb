{
 "cells": [
  {
   "cell_type": "code",
   "execution_count": null,
   "id": "b8277acb",
   "metadata": {},
   "outputs": [],
   "source": [
    "import numpy as np\n",
    "import onnxruntime as ort\n",
    "\n",
    "# Example: Mood to genre mapping (for demonstration)\n",
    "mood_to_genre = {\n",
    "    \"happy\": [\"Pop\", \"Dance\", \"Reggae\"],\n",
    "    \"sad\": [\"Blues\", \"Classical\", \"Indie\"],\n",
    "    \"energetic\": [\"Rock\", \"EDM\", \"Hip-Hop\"],\n",
    "    \"relaxed\": [\"Jazz\", \"Ambient\", \"Chillout\"]\n",
    "}\n",
    "\n",
    "def recommend_genre(mood):\n",
    "    \"\"\"\n",
    "    Recommend music genres based on mood using a simple mapping.\n",
    "    Replace this logic with ONNX model inference for production use.\n",
    "    \"\"\"\n",
    "    mood = mood.lower()\n",
    "    return mood_to_genre.get(mood, [\"Genre not found. Try another mood.\"])\n",
    "\n",
    "# Example usage\n",
    "user_mood = \"happy\"\n",
    "recommended_genres = recommend_genre(user_mood)\n",
    "print(f\"For mood '{user_mood}', recommended genres: {recommended_genres}\")"
   ]
  },
  {
   "cell_type": "code",
   "execution_count": null,
   "id": "749777d9",
   "metadata": {
    "vscode": {
     "languageId": "html"
    }
   },
   "outputs": [],
   "source": [
    "<!-- Simple Music Genre Recommender UI -->\n",
    "<label for=\"moodInput\">Enter your mood:</label>\n",
    "<input type=\"text\" id=\"moodInput\" placeholder=\"e.g. happy, sad, energetic, relaxed\">\n",
    "<button onclick=\"recommendGenre()\">Recommend Genre</button>\n",
    "<p id=\"result\"></p>\n",
    "\n",
    "<script>\n",
    "const moodToGenre = {\n",
    "    happy: [\"Pop\", \"Dance\", \"Reggae\"],\n",
    "    sad: [\"Blues\", \"Classical\", \"Indie\"],\n",
    "    energetic: [\"Rock\", \"EDM\", \"Hip-Hop\"],\n",
    "    relaxed: [\"Jazz\", \"Ambient\", \"Chillout\"]\n",
    "};\n",
    "\n",
    "function recommendGenre() {\n",
    "    const mood = document.getElementById('moodInput').value.toLowerCase();\n",
    "    const genres = moodToGenre[mood] || [\"Genre not found. Try another mood.\"];\n",
    "    document.getElementById('result').textContent = `Recommended genres: ${genres.join(', ')}`;\n",
    "}\n",
    "</script>"
   ]
  }
 ],
 "metadata": {
  "language_info": {
   "name": "python"
  }
 },
 "nbformat": 4,
 "nbformat_minor": 5
}
