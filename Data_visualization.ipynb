{
 "cells": [
  {
   "cell_type": "markdown",
   "id": "48f62009",
   "metadata": {},
   "source": [
    "# Exploring Visualizations\n"
   ]
  },
  {
   "cell_type": "code",
   "execution_count": null,
   "id": "7ba9230d",
   "metadata": {
    "vscode": {
     "languageId": "plaintext"
    }
   },
   "outputs": [],
   "source": []
  },
  {
   "cell_type": "code",
   "execution_count": null,
   "id": "37884e47",
   "metadata": {},
   "outputs": [],
   "source": [
    "import matplotlib.pyplot as plt\n",
    "import seaborn as sns\n",
    "import pandas as pd\n",
    "\n",
    "# Sample Pumpkin data\n",
    "pumpkin_data = pd.DataFrame({\n",
    "    'Weight': [500, 600, 750, 800, 950, 1100, 1200],\n",
    "    'Circumference': [120, 130, 140, 150, 160, 170, 180],\n",
    "    'Color': ['Orange', 'Orange', 'Yellow', 'Orange', 'Yellow', 'Orange', 'Yellow']\n",
    "})\n",
    "\n",
    "# Matplotlib visualization\n",
    "plt.figure(figsize=(8, 5))\n",
    "plt.scatter(pumpkin_data['Weight'], pumpkin_data['Circumference'], c='orange')\n",
    "plt.title('Pumpkin Weight vs Circumference (Matplotlib)')\n",
    "plt.xlabel('Weight')\n",
    "plt.ylabel('Circumference')\n",
    "plt.show()\n",
    "\n",
    "# Seaborn visualization\n",
    "plt.figure(figsize=(8, 5))\n",
    "sns.scatterplot(data=pumpkin_data, x='Weight', y='Circumference', hue='Color')\n",
    "plt.title('Pumpkin Weight vs Circumference (Seaborn)')\n",
    "plt.show()\n",
    "\n",
    "# Discussion\n",
    "print(\"Seaborn is generally easier for creating attractive statistical visualizations with less code and better defaults. Matplotlib offers more customization but requires more code for styling.\")"
   ]
  }
 ],
 "metadata": {
  "language_info": {
   "name": "python"
  }
 },
 "nbformat": 4,
 "nbformat_minor": 5
}
